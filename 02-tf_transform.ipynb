{
 "cells": [
  {
   "cell_type": "code",
   "execution_count": null,
   "metadata": {
    "colab": {},
    "colab_type": "code",
    "id": "GIw5zgSkf7mh"
   },
   "outputs": [],
   "source": [
    "%%bash\n",
    "pip uninstall -y google-cloud-dataflow\n",
    "pip install --upgrade --force tensorflow_transform apache-beam[gcp]"
   ]
  },
  {
   "cell_type": "code",
   "execution_count": 1,
   "metadata": {
    "colab": {},
    "colab_type": "code",
    "id": "PvYMdQBxgGp9"
   },
   "outputs": [
    {
     "name": "stderr",
     "output_type": "stream",
     "text": [
      "/home/jiewpeng/anaconda2/lib/python2.7/site-packages/h5py/__init__.py:36: FutureWarning: Conversion of the second argument of issubdtype from `float` to `np.floating` is deprecated. In future, it will be treated as `np.float64 == np.dtype(float).type`.\n",
      "  from ._conv import register_converters as _register_converters\n"
     ]
    },
    {
     "name": "stdout",
     "output_type": "stream",
     "text": [
      "1.10.0\n"
     ]
    }
   ],
   "source": [
    "from __future__ import absolute_import, division, print_function\n",
    "import tensorflow as tf\n",
    "import tensorflow_transform as tft\n",
    "import tensorflow_hub as hub\n",
    "from tensorflow_transform.beam import impl as beam_impl\n",
    "import shutil\n",
    "import os\n",
    "import datetime\n",
    "import apache_beam as beam\n",
    "from config import REGION, BUCKET, PROJECT, DELIM, RENAMED_COLS, STRING_COLS, NUMERIC_COLS, LABEL_COL\n",
    "\n",
    "print(tf.__version__)"
   ]
  },
  {
   "cell_type": "markdown",
   "metadata": {
    "colab_type": "text",
    "id": "MXxbc63JgWkx"
   },
   "source": [
    "# Cloud Setup\n",
    "This section is only required if running on cloud"
   ]
  },
  {
   "cell_type": "code",
   "execution_count": null,
   "metadata": {
    "colab": {},
    "colab_type": "code",
    "id": "wPdeNmBNnAPj"
   },
   "outputs": [],
   "source": [
    "os.environ['BUCKET'] = BUCKET\n",
    "os.environ['PROJECT'] = PROJECT\n",
    "os.environ['REGION'] = REGION"
   ]
  },
  {
   "cell_type": "code",
   "execution_count": null,
   "metadata": {
    "colab": {},
    "colab_type": "code",
    "id": "7LnF9NCdgcZV"
   },
   "outputs": [],
   "source": [
    "%%bash\n",
    "gcloud config set project $PROJECT\n",
    "gcloud config set compute/region $REGION"
   ]
  },
  {
   "cell_type": "markdown",
   "metadata": {
    "colab_type": "text",
    "id": "3wqf0DGrjKeR"
   },
   "source": [
    "# Create Dataset using tf.transform\n",
    "Much of the code is taken from [a notebook in Google's training data analyst repo](https://github.com/GoogleCloudPlatform/training-data-analyst/blob/master/courses/machine_learning/feateng/tftransform.ipynb).\n",
    "\n",
    "\n",
    "We will use `tf.transform` (which uses Apache Beam under the hood) for the data transformation pipeline. Doing this has several advantages:\n",
    "1. Same input pipeline can be used for batch and streaming data (just need to change the `beam.io.ReadFromText` line to whichever other file/DB connection).\n",
    "1. Same pipeline code can be used regardless of where it is running (on local machine, on GCP, on a Spark cluster).\n",
    "\n",
    "\n",
    "We need to have the following pre-requisites:\n",
    "1. Have a `requirements.txt` file for the Apache Beam pipeline\n",
    "1. Have a data filtering / validation function (here, it is the `is_valid` function)\n",
    "1. Have a data processing function (here, it is the `preprocess_tft` function)\n",
    "\n",
    "\n",
    "We can then define the pipeline:\n",
    "1. Import required packages for the pipeline\n",
    "1. Prepare the filesystem by deleting leftover files\n",
    "1. Set up the options for the pipeline\n",
    "1. Create metadata about the inputs (input columns and their datatypes) and save it\n",
    "1. Create a pipeline with the desired runner (e.g. `DirectRunner` or `DataflowRunner`)\n",
    "1. Transform raw training data\n",
    "  1. Read in raw training data\n",
    "  1. Analyze and transform the raw training data (produces a transformed dataset **and** a transform function to use on the eval and test datasets)\n",
    "  1. Save the transformed data\n",
    "1. Transform eval and test data\n",
    "  1. Read in raw eval/test data\n",
    "  1. Transform raw eval/test data\n",
    "  1. Save transformed eval/test data\n",
    "1. Save transform function for serving\n",
    "\n",
    "Note: when you read in data, it becomes a `PCollection`. Combining a `PCollection` with `DatasetMetadata` makes it a dataset. A dataset is a `tf.transform` concept."
   ]
  },
  {
   "cell_type": "code",
   "execution_count": 2,
   "metadata": {
    "colab": {},
    "colab_type": "code",
    "id": "6mSdUpcFoW0U"
   },
   "outputs": [
    {
     "name": "stdout",
     "output_type": "stream",
     "text": [
      "Overwriting requirements.txt\n"
     ]
    }
   ],
   "source": [
    "%%writefile requirements.txt\n",
    "tensorflow\n",
    "tensorflow-transform\n",
    "tensorflow-hub\n",
    "apache-beam"
   ]
  },
  {
   "cell_type": "code",
   "execution_count": 3,
   "metadata": {
    "colab": {},
    "colab_type": "code",
    "id": "DfDQYYAli_Q4",
    "scrolled": false
   },
   "outputs": [
    {
     "name": "stdout",
     "output_type": "stream",
     "text": [
      "Launching local job ... hang on\n",
      "INFO:tensorflow:Assets added to graph.\n",
      "INFO:tensorflow:No assets to write.\n",
      "INFO:tensorflow:SavedModel written to: ./data/tft/tmp/tftransform_tmp/dab530b6fbb44fc7bed005c624a1eaf8/saved_model.pb\n",
      "INFO:tensorflow:Saver not created because there are no variables in the graph to restore\n"
     ]
    },
    {
     "name": "stderr",
     "output_type": "stream",
     "text": [
      "INFO:tensorflow:Saver not created because there are no variables in the graph to restore\n"
     ]
    },
    {
     "name": "stdout",
     "output_type": "stream",
     "text": [
      "{'voucher_line': u'4', 'voucher_line_descr': u'some text', 'vendor_id': u'VDNR3', 'acc_code': u'123456', 'voucher_id': u'V00457247', 'business_unit': u'BU03', 'voucher_descr': u'some other text'}\n",
      "INFO:tensorflow:Saver not created because there are no variables in the graph to restore\n"
     ]
    },
    {
     "name": "stderr",
     "output_type": "stream",
     "text": [
      "INFO:tensorflow:Saver not created because there are no variables in the graph to restore\n",
      "WARNING:root:Couldn't find python-snappy so the implementation of _TFRecordUtil._masked_crc32c is not as fast as it could be.\n"
     ]
    },
    {
     "name": "stdout",
     "output_type": "stream",
     "text": [
      "{'voucher_line': u'6', 'voucher_line_descr': u'some text', 'vendor_id': u'VDNR8', 'acc_code': u'123456', 'voucher_id': u'V00310716', 'business_unit': u'BU02', 'voucher_descr': u'hello world'}\n",
      "{'voucher_line': u'6', 'voucher_line_descr': u'lorem ipsum dolor sit amet', 'vendor_id': u'VDNR5', 'acc_code': u'123457', 'voucher_id': u'V00673558', 'business_unit': u'BU03', 'voucher_descr': u'hello hello'}\n",
      "{'voucher_line': u'6', 'voucher_line_descr': u'lorem ipsum dolor sit amet', 'vendor_id': u'VDNR7', 'acc_code': u'123457', 'voucher_id': u'V00100101', 'business_unit': u'BU03', 'voucher_descr': u'some text'}\n",
      "{'voucher_line': u'5', 'voucher_line_descr': u'hello world', 'vendor_id': u'VDNR2', 'acc_code': u'123458', 'voucher_id': u'V00520238', 'business_unit': u'BU03', 'voucher_descr': u'lorem ipsum dolor sit amet'}\n",
      "{'voucher_line': u'8', 'voucher_line_descr': u'some text', 'vendor_id': u'VDNR2', 'acc_code': u'123458', 'voucher_id': u'V00128361', 'business_unit': u'BU01', 'voucher_descr': u'hello world'}\n",
      "{'voucher_line': u'5', 'voucher_line_descr': u'hello hello', 'vendor_id': u'VDNR9', 'acc_code': u'123458', 'voucher_id': u'V00660203', 'business_unit': u'BU01', 'voucher_descr': u'lorem ipsum dolor sit amet'}\n",
      "{'voucher_line': u'8', 'voucher_line_descr': u'hello world', 'vendor_id': u'VDNR6', 'acc_code': u'123457', 'voucher_id': u'V00550389', 'business_unit': u'BU02', 'voucher_descr': u'lorem ipsum dolor sit amet'}\n",
      "{'voucher_line': u'6', 'voucher_line_descr': u'some other text', 'vendor_id': u'VDNR1', 'acc_code': u'123458', 'voucher_id': u'V00256094', 'business_unit': u'BU01', 'voucher_descr': u'some other text'}\n",
      "{'voucher_line': u'8', 'voucher_line_descr': u'lorem ipsum dolor sit amet', 'vendor_id': u'VDNR5', 'acc_code': u'123458', 'voucher_id': u'V00801374', 'business_unit': u'BU02', 'voucher_descr': u'hello hello'}\n",
      "{'voucher_line': u'4', 'voucher_line_descr': u'some text', 'vendor_id': u'VDNR2', 'acc_code': u'123457', 'voucher_id': u'V00741138', 'business_unit': u'BU02', 'voucher_descr': u'some text'}\n",
      "INFO:tensorflow:Saver not created because there are no variables in the graph to restore\n"
     ]
    },
    {
     "name": "stderr",
     "output_type": "stream",
     "text": [
      "INFO:tensorflow:Saver not created because there are no variables in the graph to restore\n"
     ]
    },
    {
     "name": "stdout",
     "output_type": "stream",
     "text": [
      "{'voucher_line': u'5', 'voucher_line_descr': u'some text', 'vendor_id': u'VDNR2', 'acc_code': u'123458', 'voucher_id': u'V00998272', 'business_unit': u'BU01', 'voucher_descr': u'lorem ipsum dolor sit amet'}\n",
      "{'voucher_line': u'7', 'voucher_line_descr': u'lorem ipsum dolor sit amet', 'vendor_id': u'VDNR1', 'acc_code': u'123458', 'voucher_id': u'V00495758', 'business_unit': u'BU03', 'voucher_descr': u'some other text'}\n",
      "{'voucher_line': u'9', 'voucher_line_descr': u'some text', 'vendor_id': u'VDNR9', 'acc_code': u'123456', 'voucher_id': u'V00338789', 'business_unit': u'BU02', 'voucher_descr': u'hello hello'}\n",
      "{'voucher_line': u'5', 'voucher_line_descr': u'hello world', 'vendor_id': u'VDNR5', 'acc_code': u'123456', 'voucher_id': u'V00104083', 'business_unit': u'BU01', 'voucher_descr': u'lorem ipsum dolor sit amet'}\n",
      "{'voucher_line': u'3', 'voucher_line_descr': u'hello hello', 'vendor_id': u'VDNR9', 'acc_code': u'123457', 'voucher_id': u'V00224757', 'business_unit': u'BU02', 'voucher_descr': u'hello hello'}\n",
      "{'voucher_line': u'6', 'voucher_line_descr': u'lorem ipsum dolor sit amet', 'vendor_id': u'VDNR2', 'acc_code': u'123457', 'voucher_id': u'V00739507', 'business_unit': u'BU01', 'voucher_descr': u'hello hello'}\n",
      "{'voucher_line': u'3', 'voucher_line_descr': u'some other text', 'vendor_id': u'VDNR0', 'acc_code': u'123456', 'voucher_id': u'V00721151', 'business_unit': u'BU02', 'voucher_descr': u'hello hello'}\n",
      "{'voucher_line': u'4', 'voucher_line_descr': u'some other text', 'vendor_id': u'VDNR1', 'acc_code': u'123457', 'voucher_id': u'V00383728', 'business_unit': u'BU03', 'voucher_descr': u'some text'}\n",
      "{'voucher_line': u'10', 'voucher_line_descr': u'some other text', 'vendor_id': u'VDNR9', 'acc_code': u'123458', 'voucher_id': u'V00740153', 'business_unit': u'BU01', 'voucher_descr': u'hello world'}\n",
      "{'voucher_line': u'9', 'voucher_line_descr': u'lorem ipsum dolor sit amet', 'vendor_id': u'VDNR0', 'acc_code': u'123458', 'voucher_id': u'V00517163', 'business_unit': u'BU03', 'voucher_descr': u'hello hello'}\n",
      "INFO:tensorflow:Saver not created because there are no variables in the graph to restore\n"
     ]
    },
    {
     "name": "stderr",
     "output_type": "stream",
     "text": [
      "INFO:tensorflow:Saver not created because there are no variables in the graph to restore\n"
     ]
    },
    {
     "name": "stdout",
     "output_type": "stream",
     "text": [
      "{'voucher_line': u'9', 'voucher_line_descr': u'hello hello', 'vendor_id': u'VDNR4', 'acc_code': u'123458', 'voucher_id': u'V00695290', 'business_unit': u'BU01', 'voucher_descr': u'hello hello'}\n",
      "{'voucher_line': u'10', 'voucher_line_descr': u'some text', 'vendor_id': u'VDNR3', 'acc_code': u'123457', 'voucher_id': u'V00543348', 'business_unit': u'BU03', 'voucher_descr': u'some text'}\n",
      "{'voucher_line': u'8', 'voucher_line_descr': u'hello hello', 'vendor_id': u'VDNR2', 'acc_code': u'123457', 'voucher_id': u'V0069517', 'business_unit': u'BU03', 'voucher_descr': u'hello world'}\n",
      "{'voucher_line': u'10', 'voucher_line_descr': u'hello hello', 'vendor_id': u'VDNR4', 'acc_code': u'123458', 'voucher_id': u'V00286802', 'business_unit': u'BU01', 'voucher_descr': u'hello hello'}\n",
      "{'voucher_line': u'7', 'voucher_line_descr': u'hello hello', 'vendor_id': u'VDNR3', 'acc_code': u'123458', 'voucher_id': u'V00136287', 'business_unit': u'BU02', 'voucher_descr': u'hello hello'}\n",
      "{'voucher_line': u'7', 'voucher_line_descr': u'hello world', 'vendor_id': u'VDNR6', 'acc_code': u'123456', 'voucher_id': u'V00412442', 'business_unit': u'BU03', 'voucher_descr': u'hello hello'}\n",
      "{'voucher_line': u'4', 'voucher_line_descr': u'lorem ipsum dolor sit amet', 'vendor_id': u'VDNR9', 'acc_code': u'123458', 'voucher_id': u'V009686', 'business_unit': u'BU03', 'voucher_descr': u'some other text'}\n",
      "{'voucher_line': u'1', 'voucher_line_descr': u'hello world', 'vendor_id': u'VDNR9', 'acc_code': u'123456', 'voucher_id': u'V0012305', 'business_unit': u'BU01', 'voucher_descr': u'hello world'}\n",
      "{'voucher_line': u'6', 'voucher_line_descr': u'some other text', 'vendor_id': u'VDNR2', 'acc_code': u'123456', 'voucher_id': u'V00950100', 'business_unit': u'BU01', 'voucher_descr': u'lorem ipsum dolor sit amet'}\n",
      "{'voucher_line': u'5', 'voucher_line_descr': u'lorem ipsum dolor sit amet', 'vendor_id': u'VDNR2', 'acc_code': u'123458', 'voucher_id': u'V00404312', 'business_unit': u'BU03', 'voucher_descr': u'lorem ipsum dolor sit amet'}\n",
      "{'voucher_line': u'6', 'voucher_line_descr': u'lorem ipsum dolor sit amet', 'vendor_id': u'VDNR1', 'acc_code': u'123456', 'voucher_id': u'V00445269', 'business_unit': u'BU02', 'voucher_descr': u'some other text'}\n",
      "{'voucher_line': u'6', 'voucher_line_descr': u'hello hello', 'vendor_id': u'VDNR5', 'acc_code': u'123456', 'voucher_id': u'V00680380', 'business_unit': u'BU01', 'voucher_descr': u'hello world'}\n",
      "{'voucher_line': u'5', 'voucher_line_descr': u'some other text', 'vendor_id': u'VDNR0', 'acc_code': u'123457', 'voucher_id': u'V00984189', 'business_unit': u'BU01', 'voucher_descr': u'some other text'}\n",
      "{'voucher_line': u'9', 'voucher_line_descr': u'lorem ipsum dolor sit amet', 'vendor_id': u'VDNR5', 'acc_code': u'123456', 'voucher_id': u'V00619602', 'business_unit': u'BU02', 'voucher_descr': u'some text'}\n",
      "{'voucher_line': u'9', 'voucher_line_descr': u'hello world', 'vendor_id': u'VDNR5', 'acc_code': u'123456', 'voucher_id': u'V00497887', 'business_unit': u'BU01', 'voucher_descr': u'hello world'}\n",
      "{'voucher_line': u'10', 'voucher_line_descr': u'hello hello', 'vendor_id': u'VDNR6', 'acc_code': u'123456', 'voucher_id': u'V00217314', 'business_unit': u'BU02', 'voucher_descr': u'some other text'}\n",
      "{'voucher_line': u'8', 'voucher_line_descr': u'some text', 'vendor_id': u'VDNR6', 'acc_code': u'123456', 'voucher_id': u'V00902738', 'business_unit': u'BU01', 'voucher_descr': u'some text'}\n",
      "{'voucher_line': u'7', 'voucher_line_descr': u'some text', 'vendor_id': u'VDNR8', 'acc_code': u'123457', 'voucher_id': u'V00162221', 'business_unit': u'BU01', 'voucher_descr': u'hello hello'}\n",
      "{'voucher_line': u'5', 'voucher_line_descr': u'lorem ipsum dolor sit amet', 'vendor_id': u'VDNR1', 'acc_code': u'123458', 'voucher_id': u'V00766547', 'business_unit': u'BU02', 'voucher_descr': u'some text'}\n",
      "{'voucher_line': u'7', 'voucher_line_descr': u'some text', 'vendor_id': u'VDNR2', 'acc_code': u'123458', 'voucher_id': u'V00621641', 'business_unit': u'BU03', 'voucher_descr': u'hello world'}\n",
      "{'voucher_line': u'10', 'voucher_line_descr': u'hello world', 'vendor_id': u'VDNR5', 'acc_code': u'123458', 'voucher_id': u'V00957952', 'business_unit': u'BU01', 'voucher_descr': u'some text'}\n",
      "{'voucher_line': u'5', 'voucher_line_descr': u'some text', 'vendor_id': u'VDNR5', 'acc_code': u'123457', 'voucher_id': u'V0039690', 'business_unit': u'BU02', 'voucher_descr': u'hello world'}\n",
      "{'voucher_line': u'6', 'voucher_line_descr': u'some other text', 'vendor_id': u'VDNR6', 'acc_code': u'123458', 'voucher_id': u'V00663981', 'business_unit': u'BU01', 'voucher_descr': u'some text'}\n",
      "{'voucher_line': u'3', 'voucher_line_descr': u'hello hello', 'vendor_id': u'VDNR4', 'acc_code': u'123456', 'voucher_id': u'V00356317', 'business_unit': u'BU02', 'voucher_descr': u'hello world'}\n",
      "{'voucher_line': u'5', 'voucher_line_descr': u'some text', 'vendor_id': u'VDNR2', 'acc_code': u'123456', 'voucher_id': u'V00950114', 'business_unit': u'BU03', 'voucher_descr': u'hello hello'}\n",
      "{'voucher_line': u'4', 'voucher_line_descr': u'hello hello', 'vendor_id': u'VDNR9', 'acc_code': u'123457', 'voucher_id': u'V00192903', 'business_unit': u'BU02', 'voucher_descr': u'some text'}\n",
      "{'voucher_line': u'8', 'voucher_line_descr': u'some text', 'vendor_id': u'VDNR4', 'acc_code': u'123457', 'voucher_id': u'V00865190', 'business_unit': u'BU03', 'voucher_descr': u'some text'}\n",
      "{'voucher_line': u'9', 'voucher_line_descr': u'some other text', 'vendor_id': u'VDNR1', 'acc_code': u'123456', 'voucher_id': u'V00563108', 'business_unit': u'BU01', 'voucher_descr': u'hello hello'}\n",
      "{'voucher_line': u'5', 'voucher_line_descr': u'hello world', 'vendor_id': u'VDNR1', 'acc_code': u'123458', 'voucher_id': u'V00951823', 'business_unit': u'BU02', 'voucher_descr': u'lorem ipsum dolor sit amet'}\n",
      "{'voucher_line': u'7', 'voucher_line_descr': u'some text', 'vendor_id': u'VDNR8', 'acc_code': u'123457', 'voucher_id': u'V0024700', 'business_unit': u'BU01', 'voucher_descr': u'some text'}\n",
      "{'voucher_line': u'1', 'voucher_line_descr': u'some other text', 'vendor_id': u'VDNR10', 'acc_code': u'123458', 'voucher_id': u'V00271436', 'business_unit': u'BU01', 'voucher_descr': u'hello hello'}\n",
      "{'voucher_line': u'8', 'voucher_line_descr': u'lorem ipsum dolor sit amet', 'vendor_id': u'VDNR8', 'acc_code': u'123457', 'voucher_id': u'V00479224', 'business_unit': u'BU03', 'voucher_descr': u'some text'}\n",
      "{'voucher_line': u'1', 'voucher_line_descr': u'some text', 'vendor_id': u'VDNR2', 'acc_code': u'123457', 'voucher_id': u'V00428103', 'business_unit': u'BU01', 'voucher_descr': u'hello world'}\n",
      "{'voucher_line': u'2', 'voucher_line_descr': u'some text', 'vendor_id': u'VDNR6', 'acc_code': u'123457', 'voucher_id': u'V00229474', 'business_unit': u'BU03', 'voucher_descr': u'some text'}\n",
      "{'voucher_line': u'9', 'voucher_line_descr': u'some other text', 'vendor_id': u'VDNR8', 'acc_code': u'123456', 'voucher_id': u'V00589437', 'business_unit': u'BU01', 'voucher_descr': u'hello world'}\n",
      "{'voucher_line': u'9', 'voucher_line_descr': u'hello hello', 'vendor_id': u'VDNR7', 'acc_code': u'123458', 'voucher_id': u'V00283838', 'business_unit': u'BU01', 'voucher_descr': u'hello hello'}\n",
      "{'voucher_line': u'2', 'voucher_line_descr': u'some text', 'vendor_id': u'VDNR8', 'acc_code': u'123456', 'voucher_id': u'V00658586', 'business_unit': u'BU02', 'voucher_descr': u'hello world'}\n",
      "{'voucher_line': u'8', 'voucher_line_descr': u'hello world', 'vendor_id': u'VDNR9', 'acc_code': u'123457', 'voucher_id': u'V00386655', 'business_unit': u'BU01', 'voucher_descr': u'some text'}\n",
      "{'voucher_line': u'5', 'voucher_line_descr': u'some text', 'vendor_id': u'VDNR5', 'acc_code': u'123457', 'voucher_id': u'V00207234', 'business_unit': u'BU03', 'voucher_descr': u'lorem ipsum dolor sit amet'}\n",
      "{'voucher_line': u'8', 'voucher_line_descr': u'some other text', 'vendor_id': u'VDNR7', 'acc_code': u'123456', 'voucher_id': u'V0064117', 'business_unit': u'BU02', 'voucher_descr': u'hello hello'}\n",
      "{'voucher_line': u'6', 'voucher_line_descr': u'hello hello', 'vendor_id': u'VDNR9', 'acc_code': u'123456', 'voucher_id': u'V00417957', 'business_unit': u'BU01', 'voucher_descr': u'lorem ipsum dolor sit amet'}\n",
      "{'voucher_line': u'7', 'voucher_line_descr': u'some text', 'vendor_id': u'VDNR4', 'acc_code': u'123457', 'voucher_id': u'V0027597', 'business_unit': u'BU02', 'voucher_descr': u'hello hello'}\n",
      "{'voucher_line': u'8', 'voucher_line_descr': u'some text', 'vendor_id': u'VDNR3', 'acc_code': u'123456', 'voucher_id': u'V00844878', 'business_unit': u'BU03', 'voucher_descr': u'some other text'}\n",
      "{'voucher_line': u'4', 'voucher_line_descr': u'hello hello', 'vendor_id': u'VDNR3', 'acc_code': u'123457', 'voucher_id': u'V00975496', 'business_unit': u'BU01', 'voucher_descr': u'hello hello'}\n",
      "{'voucher_line': u'10', 'voucher_line_descr': u'some other text', 'vendor_id': u'VDNR2', 'acc_code': u'123457', 'voucher_id': u'V00159498', 'business_unit': u'BU03', 'voucher_descr': u'some text'}\n",
      "{'voucher_line': u'8', 'voucher_line_descr': u'hello hello', 'vendor_id': u'VDNR3', 'acc_code': u'123458', 'voucher_id': u'V00151285', 'business_unit': u'BU01', 'voucher_descr': u'hello hello'}\n",
      "{'voucher_line': u'6', 'voucher_line_descr': u'hello world', 'vendor_id': u'VDNR8', 'acc_code': u'123457', 'voucher_id': u'V00588492', 'business_unit': u'BU01', 'voucher_descr': u'hello hello'}\n",
      "{'voucher_line': u'5', 'voucher_line_descr': u'hello world', 'vendor_id': u'VDNR3', 'acc_code': u'123457', 'voucher_id': u'V00409432', 'business_unit': u'BU02', 'voucher_descr': u'lorem ipsum dolor sit amet'}\n",
      "{'voucher_line': u'10', 'voucher_line_descr': u'hello world', 'vendor_id': u'VDNR1', 'acc_code': u'123456', 'voucher_id': u'V00367108', 'business_unit': u'BU01', 'voucher_descr': u'some text'}\n",
      "{'voucher_line': u'9', 'voucher_line_descr': u'some text', 'vendor_id': u'VDNR9', 'acc_code': u'123458', 'voucher_id': u'V00677339', 'business_unit': u'BU02', 'voucher_descr': u'hello hello'}\n",
      "{'voucher_line': u'1', 'voucher_line_descr': u'hello world', 'vendor_id': u'VDNR8', 'acc_code': u'123457', 'voucher_id': u'V0026832', 'business_unit': u'BU03', 'voucher_descr': u'lorem ipsum dolor sit amet'}\n",
      "{'voucher_line': u'3', 'voucher_line_descr': u'hello world', 'vendor_id': u'VDNR2', 'acc_code': u'123457', 'voucher_id': u'V00252272', 'business_unit': u'BU01', 'voucher_descr': u'hello hello'}\n",
      "{'voucher_line': u'1', 'voucher_line_descr': u'some text', 'vendor_id': u'VDNR3', 'acc_code': u'123457', 'voucher_id': u'V00520126', 'business_unit': u'BU01', 'voucher_descr': u'hello hello'}\n",
      "{'voucher_line': u'6', 'voucher_line_descr': u'lorem ipsum dolor sit amet', 'vendor_id': u'VDNR8', 'acc_code': u'123456', 'voucher_id': u'V00834947', 'business_unit': u'BU02', 'voucher_descr': u'some text'}\n",
      "{'voucher_line': u'4', 'voucher_line_descr': u'hello world', 'vendor_id': u'VDNR4', 'acc_code': u'123457', 'voucher_id': u'V0027001', 'business_unit': u'BU03', 'voucher_descr': u'lorem ipsum dolor sit amet'}\n",
      "{'voucher_line': u'6', 'voucher_line_descr': u'some other text', 'vendor_id': u'VDNR4', 'acc_code': u'123457', 'voucher_id': u'V00485805', 'business_unit': u'BU01', 'voucher_descr': u'some text'}\n",
      "{'voucher_line': u'3', 'voucher_line_descr': u'hello world', 'vendor_id': u'VDNR9', 'acc_code': u'123458', 'voucher_id': u'V00510147', 'business_unit': u'BU01', 'voucher_descr': u'hello hello'}\n",
      "{'voucher_line': u'6', 'voucher_line_descr': u'hello world', 'vendor_id': u'VDNR5', 'acc_code': u'123457', 'voucher_id': u'V00718904', 'business_unit': u'BU01', 'voucher_descr': u'lorem ipsum dolor sit amet'}\n",
      "{'voucher_line': u'7', 'voucher_line_descr': u'some other text', 'vendor_id': u'VDNR7', 'acc_code': u'123456', 'voucher_id': u'V00181308', 'business_unit': u'BU01', 'voucher_descr': u'some other text'}\n",
      "{'voucher_line': u'3', 'voucher_line_descr': u'hello hello', 'vendor_id': u'VDNR7', 'acc_code': u'123457', 'voucher_id': u'V00841722', 'business_unit': u'BU03', 'voucher_descr': u'lorem ipsum dolor sit amet'}\n"
     ]
    },
    {
     "name": "stdout",
     "output_type": "stream",
     "text": [
      "{'voucher_line': u'5', 'voucher_line_descr': u'hello hello', 'vendor_id': u'VDNR7', 'acc_code': u'123456', 'voucher_id': u'V00551429', 'business_unit': u'BU03', 'voucher_descr': u'hello hello'}\n",
      "{'voucher_line': u'1', 'voucher_line_descr': u'some text', 'vendor_id': u'VDNR7', 'acc_code': u'123457', 'voucher_id': u'V00201354', 'business_unit': u'BU01', 'voucher_descr': u'some text'}\n",
      "{'voucher_line': u'2', 'voucher_line_descr': u'lorem ipsum dolor sit amet', 'vendor_id': u'VDNR4', 'acc_code': u'123458', 'voucher_id': u'V00618851', 'business_unit': u'BU02', 'voucher_descr': u'some text'}\n",
      "{'voucher_line': u'10', 'voucher_line_descr': u'hello world', 'vendor_id': u'VDNR6', 'acc_code': u'123456', 'voucher_id': u'V00885363', 'business_unit': u'BU02', 'voucher_descr': u'some text'}\n",
      "{'voucher_line': u'3', 'voucher_line_descr': u'hello world', 'vendor_id': u'VDNR1', 'acc_code': u'123457', 'voucher_id': u'V00464453', 'business_unit': u'BU01', 'voucher_descr': u'some text'}\n",
      "{'voucher_line': u'1', 'voucher_line_descr': u'some other text', 'vendor_id': u'VDNR6', 'acc_code': u'123456', 'voucher_id': u'V00832148', 'business_unit': u'BU02', 'voucher_descr': u'lorem ipsum dolor sit amet'}\n",
      "{'voucher_line': u'1', 'voucher_line_descr': u'lorem ipsum dolor sit amet', 'vendor_id': u'VDNR2', 'acc_code': u'123458', 'voucher_id': u'V00378819', 'business_unit': u'BU03', 'voucher_descr': u'lorem ipsum dolor sit amet'}\n",
      "{'voucher_line': u'3', 'voucher_line_descr': u'hello hello', 'vendor_id': u'VDNR4', 'acc_code': u'123458', 'voucher_id': u'V00812970', 'business_unit': u'BU02', 'voucher_descr': u'hello hello'}\n",
      "{'voucher_line': u'8', 'voucher_line_descr': u'hello world', 'vendor_id': u'VDNR3', 'acc_code': u'123458', 'voucher_id': u'V00560899', 'business_unit': u'BU02', 'voucher_descr': u'hello hello'}\n",
      "{'voucher_line': u'10', 'voucher_line_descr': u'hello world', 'vendor_id': u'VDNR8', 'acc_code': u'123458', 'voucher_id': u'V00932320', 'business_unit': u'BU03', 'voucher_descr': u'hello hello'}\n",
      "{'voucher_line': u'1', 'voucher_line_descr': u'some other text', 'vendor_id': u'VDNR5', 'acc_code': u'123456', 'voucher_id': u'V00894339', 'business_unit': u'BU01', 'voucher_descr': u'some other text'}\n",
      "{'voucher_line': u'1', 'voucher_line_descr': u'hello hello', 'vendor_id': u'VDNR8', 'acc_code': u'123458', 'voucher_id': u'V0028766', 'business_unit': u'BU02', 'voucher_descr': u'some other text'}\n",
      "{'voucher_line': u'4', 'voucher_line_descr': u'lorem ipsum dolor sit amet', 'vendor_id': u'VDNR3', 'acc_code': u'123456', 'voucher_id': u'V00967481', 'business_unit': u'BU02', 'voucher_descr': u'some other text'}\n",
      "{'voucher_line': u'4', 'voucher_line_descr': u'some other text', 'vendor_id': u'VDNR4', 'acc_code': u'123457', 'voucher_id': u'V00660038', 'business_unit': u'BU01', 'voucher_descr': u'hello world'}\n",
      "{'voucher_line': u'7', 'voucher_line_descr': u'some other text', 'vendor_id': u'VDNR5', 'acc_code': u'123456', 'voucher_id': u'V00301799', 'business_unit': u'BU02', 'voucher_descr': u'hello world'}\n",
      "{'voucher_line': u'6', 'voucher_line_descr': u'some text', 'vendor_id': u'VDNR9', 'acc_code': u'123457', 'voucher_id': u'V00983811', 'business_unit': u'BU03', 'voucher_descr': u'hello hello'}\n",
      "{'voucher_line': u'2', 'voucher_line_descr': u'some text', 'vendor_id': u'VDNR3', 'acc_code': u'123458', 'voucher_id': u'V00526437', 'business_unit': u'BU03', 'voucher_descr': u'some text'}\n",
      "{'voucher_line': u'3', 'voucher_line_descr': u'hello hello', 'vendor_id': u'VDNR5', 'acc_code': u'123456', 'voucher_id': u'V00512946', 'business_unit': u'BU02', 'voucher_descr': u'hello world'}\n",
      "{'voucher_line': u'8', 'voucher_line_descr': u'hello hello', 'vendor_id': u'VDNR8', 'acc_code': u'123456', 'voucher_id': u'V00965993', 'business_unit': u'BU02', 'voucher_descr': u'some text'}\n"
     ]
    }
   ],
   "source": [
    "def decode_csv(row):\n",
    "    try:\n",
    "        split = row.split(DELIM)\n",
    "        features = dict(zip(RENAMED_COLS, split))\n",
    "        for col in STRING_COLS:\n",
    "            features[col] = features[col].strip()\n",
    "        for col in NUMERIC_COLS:\n",
    "            features[col] = float(features[col])\n",
    "    except ValueError:\n",
    "        features = {}\n",
    "        for col in STRING_COLS:\n",
    "            features[col] = ''.join(['dummy_', col])\n",
    "        for col in NUMERIC_COLS:\n",
    "            features[col] = 0.0\n",
    "    finally:\n",
    "        all_cols = STRING_COLS + NUMERIC_COLS\n",
    "        for key in features.keys():\n",
    "            if key not in all_cols:\n",
    "                features.pop(key)\n",
    "        return features\n",
    "\n",
    "def is_valid(inputs):\n",
    "    try:\n",
    "        acc_code = inputs['acc_code']\n",
    "        valid = (len(acc_code) == 6)\n",
    "        return valid\n",
    "    except:\n",
    "        return False\n",
    "\n",
    "\n",
    "def preprocess_tft(inputs):\n",
    "    result = {}\n",
    "    all_cols = STRING_COLS + NUMERIC_COLS\n",
    "    for col in all_cols:\n",
    "        result[col] = inputs[col]\n",
    "    result['voucher_full_descr'] = tf.strings.strip(tf.strings.join(\n",
    "        [inputs['voucher_descr'], inputs['voucher_line_descr']], \n",
    "        separator=' ', name='concat-header-and-line-description'\n",
    "    ))\n",
    "    result.pop('voucher_descr')\n",
    "    result.pop('voucher_line_descr')\n",
    "    return result\n",
    "\n",
    "\n",
    "def get_dataset_path(phase, on_cloud=False):\n",
    "    if on_cloud:\n",
    "        data_dir = 'gs://{bucket}/{project}/data/split'.format(bucket=BUCKET, project=PROJECT)\n",
    "    else:\n",
    "        data_dir = 'data/split'\n",
    "  \n",
    "    if phase == 'train':\n",
    "        dataset_dir = os.path.join(data_dir, 'train*.csv')\n",
    "    elif phase == 'eval':\n",
    "        dataset_dir = os.path.join(data_dir, 'eval*.csv')\n",
    "    else:\n",
    "        dataset_dir = os.path.join(data_dir, 'test*.csv')\n",
    "    \n",
    "    return dataset_dir\n",
    "\n",
    "\n",
    "def preprocess(on_cloud=False):\n",
    "    import datetime\n",
    "    import os\n",
    "    import tempfile\n",
    "    from apache_beam.io import tfrecordio\n",
    "    from tensorflow_transform.coders import example_proto_coder\n",
    "    from tensorflow_transform.tf_metadata import dataset_metadata\n",
    "    from tensorflow_transform.tf_metadata import dataset_schema\n",
    "    from tensorflow_transform.beam import tft_beam_io\n",
    "    from tensorflow_transform.beam.tft_beam_io import transform_fn_io\n",
    "\n",
    "    job_name = 'preprocess-for-{project}-'.format(project=PROJECT) + datetime.datetime.now().strftime('%Y%m%d-%H%M%S')\n",
    "\n",
    "    if on_cloud:\n",
    "        print('Launching Dataflow job {} ... hang on'.format(job_name))\n",
    "        OUTPUT_DIR = 'gs://{bucket}/{project}/data/tft'.format(bucket=BUCKET, project=PROJECT)\n",
    "        import subprocess\n",
    "        subprocess.call('gsutil rm -r {}'.format(OUTPUT_DIR).split())\n",
    "    else:\n",
    "        import shutil\n",
    "        print('Launching local job ... hang on')\n",
    "        OUTPUT_DIR = './data/tft'\n",
    "        shutil.rmtree(OUTPUT_DIR, ignore_errors=True)\n",
    "    \n",
    "    options = {\n",
    "        'staging_location': os.path.join(OUTPUT_DIR, 'tmp', 'staging'),\n",
    "        'temp_location': os.path.join(OUTPUT_DIR, 'tmp'),\n",
    "        'job_name': job_name,\n",
    "        'project': PROJECT,\n",
    "        'max_num_workers': 24,\n",
    "        'teardown_policy': 'TEARDOWN_ALWAYS',\n",
    "        'no_save_main_session': True,\n",
    "        'requirements_file': 'requirements.txt'\n",
    "    }\n",
    "    opts = beam.pipeline.PipelineOptions(flags=[], **options)\n",
    "  \n",
    "    if on_cloud:\n",
    "        RUNNER = 'DataflowRunner'\n",
    "    else:\n",
    "        RUNNER = 'DirectRunner'\n",
    "    \n",
    "    # set up metadata\n",
    "    raw_data_schema = {}\n",
    "    if STRING_COLS:\n",
    "        raw_data_schema.update({\n",
    "            colname: dataset_schema.ColumnSchema(\n",
    "                tf.string, \n",
    "                [], \n",
    "                dataset_schema.FixedColumnRepresentation()\n",
    "            ) \n",
    "            for colname in STRING_COLS\n",
    "        })\n",
    "    if NUMERIC_COLS:\n",
    "        raw_data_schema.update({\n",
    "            colname: dataset_schema.ColumnSchema(\n",
    "                tf.float32,\n",
    "                [],\n",
    "                dataset_schema.FixedColumnRepresentation()\n",
    "            )\n",
    "            for colname in NUMERIC_COLS\n",
    "        })\n",
    "    raw_data_metadata = dataset_metadata.DatasetMetadata(dataset_schema.Schema(raw_data_schema))\n",
    "  \n",
    "    # run Beam\n",
    "    with beam.Pipeline(RUNNER, options=opts) as p:\n",
    "        with beam_impl.Context(temp_dir=os.path.join(OUTPUT_DIR, 'tmp')):\n",
    "            # save the raw data metadata\n",
    "            _ = (\n",
    "                raw_data_metadata\n",
    "                | 'write_input_metadata' >> tft_beam_io.WriteMetadata(\n",
    "                    os.path.join(OUTPUT_DIR, 'metadata/rawdata_metadata'),\n",
    "                    pipeline=p))\n",
    "      \n",
    "            # analyze and transform training\n",
    "            raw_train_data = (\n",
    "                p\n",
    "                | 'train_read' >> beam.io.ReadFromText(get_dataset_path(phase='train', on_cloud=on_cloud))\n",
    "                | 'train_decode' >> beam.Map(decode_csv)\n",
    "                | 'train_filter' >> beam.Filter(is_valid))\n",
    "\n",
    "            raw_train_dataset = (raw_train_data, raw_data_metadata)\n",
    "            transformed_train_dataset, transform_fn = (\n",
    "                raw_train_dataset \n",
    "                | 'transform_train_data' >> beam_impl.AnalyzeAndTransformDataset(preprocessing_fn=preprocess_tft))\n",
    "            transformed_train_data, transformed_metadata = transformed_train_dataset\n",
    "\n",
    "            # write transformed training data\n",
    "            _ = (\n",
    "                transformed_train_data\n",
    "                | 'write_train_data' >> tfrecordio.WriteToTFRecord(\n",
    "                    os.path.join(OUTPUT_DIR, 'train'),\n",
    "                    file_name_suffix='.gz',\n",
    "                    coder=example_proto_coder.ExampleProtoCoder(transformed_metadata.schema)))\n",
    "\n",
    "            # transform eval data\n",
    "            raw_eval_data = (\n",
    "                p\n",
    "                | 'eval_read' >> beam.io.ReadFromText(get_dataset_path(phase='eval', on_cloud=on_cloud))\n",
    "                | 'eval_decode' >> beam.Map(decode_csv)\n",
    "                | 'eval_filter' >> beam.Filter(is_valid))\n",
    "            raw_eval_dataset = (raw_eval_data, raw_data_metadata)\n",
    "            transformed_eval_dataset = (\n",
    "                (raw_eval_dataset, transform_fn)\n",
    "                | 'transform_eval_data' >> beam_impl.TransformDataset())\n",
    "            transformed_eval_data, _ = transformed_eval_dataset\n",
    "\n",
    "            # write eval data\n",
    "            _ = (\n",
    "                transformed_eval_data\n",
    "                | 'write_eval_data' >> tfrecordio.WriteToTFRecord(\n",
    "                    os.path.join(OUTPUT_DIR, 'eval'),\n",
    "                    file_name_suffix='.gz',\n",
    "                    coder=example_proto_coder.ExampleProtoCoder(transformed_metadata.schema)))\n",
    "\n",
    "            # transform test data\n",
    "            raw_test_data = (\n",
    "                p\n",
    "                | 'test_read' >> beam.io.ReadFromText(get_dataset_path(phase='test', on_cloud=on_cloud))\n",
    "                | 'test_decode' >> beam.Map(decode_csv)\n",
    "                | 'test_filter' >> beam.Filter(is_valid))\n",
    "            raw_test_dataset = (raw_test_data, raw_data_metadata)\n",
    "            transformed_test_dataset = (\n",
    "                (raw_test_dataset, transform_fn)\n",
    "                | 'transform_test_data' >> beam_impl.TransformDataset())\n",
    "            transformed_test_data, _ = transformed_test_dataset\n",
    "\n",
    "            # write test data\n",
    "            _ = (\n",
    "                transformed_test_data\n",
    "                | 'write_test_data' >> tfrecordio.WriteToTFRecord(\n",
    "                    os.path.join(OUTPUT_DIR, 'test'),\n",
    "                    file_name_suffix='.gz',\n",
    "                    coder=example_proto_coder.ExampleProtoCoder(transformed_metadata.schema)))\n",
    "\n",
    "            # write transform function for serving\n",
    "            _ = (\n",
    "                transform_fn\n",
    "                | 'write_transform_fn' >> transform_fn_io.WriteTransformFn(os.path.join(OUTPUT_DIR, 'metadata'))\n",
    "            )\n",
    "      \n",
    "preprocess(on_cloud=False)"
   ]
  },
  {
   "cell_type": "code",
   "execution_count": null,
   "metadata": {},
   "outputs": [],
   "source": []
  }
 ],
 "metadata": {
  "accelerator": "GPU",
  "colab": {
   "collapsed_sections": [],
   "name": "02-tf_transform.ipynb",
   "private_outputs": true,
   "provenance": [],
   "version": "0.3.2"
  },
  "kernelspec": {
   "display_name": "Python 2",
   "language": "python",
   "name": "python2"
  },
  "language_info": {
   "codemirror_mode": {
    "name": "ipython",
    "version": 2
   },
   "file_extension": ".py",
   "mimetype": "text/x-python",
   "name": "python",
   "nbconvert_exporter": "python",
   "pygments_lexer": "ipython2",
   "version": "2.7.15"
  }
 },
 "nbformat": 4,
 "nbformat_minor": 1
}
