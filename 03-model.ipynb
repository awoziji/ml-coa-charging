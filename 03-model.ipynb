{
 "cells": [
  {
   "cell_type": "code",
   "execution_count": null,
   "metadata": {
    "colab": {},
    "colab_type": "code",
    "id": "ejuHKQ9UfSMJ"
   },
   "outputs": [],
   "source": [
    "%%bash\n",
    "pip install tensorflow-transform\n",
    "pip install apache-beam[gcp]"
   ]
  },
  {
   "cell_type": "code",
   "execution_count": null,
   "metadata": {},
   "outputs": [],
   "source": [
    "import os\n",
    "if not os.path.exists('trainer'):\n",
    "    os.mkdir('trainer')"
   ]
  },
  {
   "cell_type": "code",
   "execution_count": 8,
   "metadata": {
    "colab": {},
    "colab_type": "code",
    "id": "nSkew8KnU3qJ"
   },
   "outputs": [
    {
     "name": "stdout",
     "output_type": "stream",
     "text": [
      "Overwriting trainer/model.py\n"
     ]
    }
   ],
   "source": [
    "%%writefile trainer/model.py\n",
    "#!/usr/bin/env python\n",
    "\n",
    "\n",
    "from __future__ import print_function, division, absolute_import # python 2 compatibility\n",
    "import pandas as pd\n",
    "import tensorflow as tf\n",
    "import tensorflow.contrib.learn as tflearn\n",
    "import tensorflow.contrib.metrics as metrics\n",
    "from tensorflow_transform.saved import input_fn_maker, saved_transform_io\n",
    "from tensorflow_transform.tf_metadata import metadata_io\n",
    "import tensorflow_hub as hub\n",
    "import apache_beam as beam\n",
    "import shutil\n",
    "import os\n",
    "from config import REGION, BUCKET, PROJECT, LABEL_COL, PASSTHROUGH_COLS, STRING_COLS, NUMERIC_COLS\n",
    "print(tf.__version__)\n",
    "tf.logging.set_verbosity(tf.logging.INFO)"
   ]
  },
  {
   "cell_type": "markdown",
   "metadata": {
    "colab_type": "text",
    "id": "EBEdbhATWPmL"
   },
   "source": [
    "# Cloud Setup\n",
    "This section is required only if running on cloud (ML Engine)"
   ]
  },
  {
   "cell_type": "code",
   "execution_count": null,
   "metadata": {
    "colab": {},
    "colab_type": "code",
    "id": "mHu_5_dqrssE"
   },
   "outputs": [],
   "source": [
    "os.environ['PROJECT'] = PROJECT\n",
    "os.environ['BUCKET'] = BUCKET\n",
    "os.environ['REGION'] = REGION\n",
    "os.environ['TFVERSION'] = '1.10'"
   ]
  },
  {
   "cell_type": "code",
   "execution_count": null,
   "metadata": {
    "colab": {},
    "colab_type": "code",
    "id": "Ia9n5ZtEWFks"
   },
   "outputs": [],
   "source": [
    "%bash\n",
    "gcloud config set project $PROJECT\n",
    "gcloud config set compute/region $REGION"
   ]
  },
  {
   "cell_type": "markdown",
   "metadata": {
    "colab_type": "text",
    "id": "wbkA9Vd_tKzU"
   },
   "source": [
    "# Set up Model as a Package\n",
    "\n",
    "## Pre-requisites\n",
    "Data is assumed to have been prepared in the `TFRecords` format with GZIP compression. This gets us the best performance and scalability compared to csv files. The conversion of `csv` to `TFRecords` should be done in the previous notebook, `02-tf_transform.ipynb`\n",
    "\n",
    "## Package Setup\n",
    "We need to set up our model as a package for training and serving.\n",
    "\n",
    "- `model.py` provides the code for data inputs and the model itself\n",
    "- `setup.py` provides metadata about the package\n",
    "- `task.py` sets up the package to be used from the command line, with arguments that specify hyperparameters to the model as well as GCP resources "
   ]
  },
  {
   "cell_type": "code",
   "execution_count": 9,
   "metadata": {
    "colab": {},
    "colab_type": "code",
    "id": "C952m8_sWKJf"
   },
   "outputs": [
    {
     "name": "stdout",
     "output_type": "stream",
     "text": [
      "Appending to trainer/model.py\n"
     ]
    }
   ],
   "source": [
    "%%writefile trainer/model.py --append\n",
    "\n",
    "\n",
    "LABEL_VOCABULARY = ['123456', '123457', '123458']\n",
    "N_CLASSES = len(LABEL_VOCABULARY)\n",
    "\n",
    "\n",
    "def build_estimator(model_dir, model_type, embedding_type, learning_rate,\n",
    "                    hidden_units, dropout,\n",
    "                    l1_regularization_strength, l2_regularization_strength):\n",
    "  \n",
    "    if embedding_type == 'nnlm':\n",
    "        module_url = 'https://tfhub.dev/google/nnlm-en-dim128/1'\n",
    "    elif embedding_type == 'universal-sentence-encoder':\n",
    "        module_url = 'https://tfhub.dev/google/universal-sentence-encoder/2'\n",
    "    elif embedding_type == 'elmo':\n",
    "        module_url = 'https://tfhub.dev/google/elmo/2'\n",
    "    elif embedding_type is None:\n",
    "        pass\n",
    "    else:\n",
    "        raise InputError('Embedding type must be one of \"nnlm\", \"universal-sentence-encoder\", \"elmo\", None')\n",
    "    \n",
    "    if embedding_type is not None:\n",
    "        embedding = hub.text_embedding_column('voucher_full_descr', module_url, trainable=False)\n",
    "        \n",
    "    feature_columns = [embedding]\n",
    "    \n",
    "    if model_type == 'linear':\n",
    "        estimator = tf.estimator.LinearClassifier(\n",
    "            feature_columns=feature_columns,\n",
    "            n_classes=N_CLASSES,\n",
    "            label_vocabulary=LABEL_VOCABULARY,\n",
    "            model_dir=model_dir,\n",
    "            optimizer=tf.train.FtrlOptimizer(\n",
    "                learning_rate=learning_rate,\n",
    "                l1_regularization_strength=l1_regularization_strength,\n",
    "                l2_regularization_strength=l2_regularization_strength\n",
    "            )\n",
    "        )\n",
    "    elif model_type == 'dnn':\n",
    "        estimator = tf.estimator.DNNClassifier(\n",
    "            feature_columns=feature_columns,\n",
    "            hidden_units=hidden_units,\n",
    "            n_classes=N_CLASSES,\n",
    "            label_vocabulary=LABEL_VOCABULARY,\n",
    "            model_dir=model_dir,\n",
    "            optimizer=tf.train.AdamOptimizer(\n",
    "                learning_rate=learning_rate,\n",
    "            ),\n",
    "            dropout=dropout\n",
    "        )\n",
    "    else:\n",
    "        raise InputErorr('Model type must be one of \"linear\" or \"dnn\"')\n",
    "    \n",
    "    # enable feature passthrough for matching results to input\n",
    "    if len(PASSTHROUGH_COLS) > 0:\n",
    "        estimator = tf.contrib.estimator.forward_features(estimator, PASSTHROUGH_COLS)\n",
    "\n",
    "    return estimator\n",
    "        \n",
    "# Serving input function\n",
    "def make_serving_input_fn_for_base64_json(args):\n",
    "    raw_metadata = metadata_io.read_metadata(\n",
    "        os.path.join(args['metadata_path'], 'rawdata_metadata'))\n",
    "    transform_savedmodel_dir = (\n",
    "        os.path.join(args['metadata_path'], 'transform_fn'))\n",
    "    return input_fn_maker.build_parsing_transforming_serving_input_receiver_fn(\n",
    "        raw_metadata,\n",
    "        transform_savedmodel_dir,\n",
    "        exclude_raw_keys=[LABEL_COL]\n",
    "    )\n",
    "\n",
    "def make_serving_input_fn(args):\n",
    "    transform_savedmodel_dir = (\n",
    "        os.path.join(args['metadata_path'], 'transform_fn'))\n",
    "    \n",
    "    def _input_fn():\n",
    "        feature_placeholders = {\n",
    "            column_name: tf.placeholder(tf.string, [None]) for column_name in STRING_COLS\n",
    "        }\n",
    "        feature_placeholders.update({\n",
    "            column_name: tf.placeholder(tf.float32, [None]) for column_name in NUMERIC_COLS\n",
    "        })\n",
    "        feature_placeholders.pop(LABEL_COL)\n",
    "        \n",
    "        _, features = saved_transform_io.partially_apply_saved_transform(\n",
    "            transform_savedmodel_dir,\n",
    "            feature_placeholders\n",
    "        )\n",
    "        \n",
    "        # so that outputs are consistently in lists\n",
    "        if len(PASSTHROUGH_COLS) > 0:\n",
    "            for col in PASSTHROUGH_COLS:\n",
    "                features[col] = tf.expand_dims(tf.identity(feature_placeholders[col]), axis=1)\n",
    "        \n",
    "        return tf.estimator.export.ServingInputReceiver(features, feature_placeholders)\n",
    "    \n",
    "    return _input_fn\n",
    "\n",
    "\n",
    "# training, eval and test input function\n",
    "def read_dataset(args, mode):\n",
    "    batch_size = args['train_batch_size']\n",
    "    if mode == tf.estimator.ModeKeys.TRAIN:\n",
    "        input_paths = args['train_data_paths']\n",
    "    elif mode == tf.estimator.ModeKeys.EVAL:\n",
    "        input_paths = args['eval_data_paths']\n",
    "    else:\n",
    "        input_paths = args['test_data_paths']\n",
    "    \n",
    "    transformed_metadata = metadata_io.read_metadata(\n",
    "        os.path.join(args['metadata_path'], 'transformed_metadata'))\n",
    "    \n",
    "    return input_fn_maker.build_training_input_fn(\n",
    "        metadata=transformed_metadata,\n",
    "        file_pattern = (input_paths[0] if len(input_paths) == 1 else input_paths),\n",
    "        training_batch_size=batch_size,\n",
    "        label_keys=[LABEL_COL],\n",
    "        reader=gzip_reader_fn,\n",
    "        randomize_input=(mode == tf.estimator.ModeKeys.TRAIN),\n",
    "        num_epochs=(None if mode == tf.estimator.ModeKeys.TRAIN else 1)\n",
    "    )\n",
    "\n",
    "\n",
    "# create tf.estimator train and evaluate function\n",
    "def train_and_evaluate(args):\n",
    "    # modify according to build_estimator function\n",
    "    estimator = build_estimator(\n",
    "        args['model_dir'],\n",
    "        args['model_type'],\n",
    "        args['embedding_type'],\n",
    "        args['learning_rate'],\n",
    "        args['hidden_units'].split(' '),\n",
    "        args['dropout'],\n",
    "        args['l1_regularization_strength'],\n",
    "        args['l2_regularization_strength']\n",
    "    )\n",
    "    \n",
    "    train_spec = tf.estimator.TrainSpec(\n",
    "        input_fn=read_dataset(args, tf.estimator.ModeKeys.TRAIN),\n",
    "        max_steps=args['train_steps']\n",
    "    )\n",
    "    \n",
    "    exporter = tf.estimator.LatestExporter('exporter', make_serving_input_fn(args))\n",
    "    \n",
    "    eval_spec = tf.estimator.EvalSpec(\n",
    "        input_fn=read_dataset(args, tf.estimator.ModeKeys.EVAL),\n",
    "        steps=None,\n",
    "        exporters=exporter\n",
    "    )\n",
    "    \n",
    "    tf.estimator.train_and_evaluate(estimator, train_spec, eval_spec)\n",
    "    \n",
    "    \n",
    "def gzip_reader_fn():\n",
    "    return tf.TFRecordReader(options=tf.python_io.TFRecordOptions(\n",
    "        compression_type=tf.python_io.TFRecordCompressionType.GZIP))\n",
    "\n",
    "\n",
    "def get_eval_metrics():\n",
    "    return {\n",
    "        'accuracy': tflearn.MetricSpec(metric_fn=metrics.streaming_accuracy),\n",
    "        'training/hptuning/metric': tflearn.MetricSpec(metric_fn=metrics.streaming_accuracy),\n",
    "    }"
   ]
  },
  {
   "cell_type": "code",
   "execution_count": 10,
   "metadata": {
    "colab": {},
    "colab_type": "code",
    "id": "0l1scrAJtUQk"
   },
   "outputs": [
    {
     "name": "stdout",
     "output_type": "stream",
     "text": [
      "Overwriting trainer/setup.py\n"
     ]
    }
   ],
   "source": [
    "%%writefile trainer/setup.py\n",
    "\n",
    "from setuptools import find_packages\n",
    "from setuptools import setup\n",
    "\n",
    "REQUIRED_PACKAGES = [\n",
    "]\n",
    "\n",
    "setup(\n",
    "    name='{name_of_model}',\n",
    "    version='0.1',\n",
    "    author = '{name of author}',\n",
    "    author_email = '{email@example.com}',\n",
    "    install_requires=REQUIRED_PACKAGES,\n",
    "    packages=find_packages(),\n",
    "    include_package_data=True,\n",
    "    description='{Some description}',\n",
    "    requires=[]\n",
    ")"
   ]
  },
  {
   "cell_type": "code",
   "execution_count": 11,
   "metadata": {},
   "outputs": [
    {
     "name": "stdout",
     "output_type": "stream",
     "text": [
      "Overwriting trainer/task.py\n"
     ]
    }
   ],
   "source": [
    "%%writefile trainer/task.py\n",
    "import traceback\n",
    "import argparse\n",
    "import json\n",
    "import os\n",
    "\n",
    "import model\n",
    "\n",
    "import tensorflow as tf\n",
    "\n",
    "if __name__ == '__main__':\n",
    "    parser = argparse.ArgumentParser()\n",
    "    # Input Arguments\n",
    "    parser.add_argument(\n",
    "        '--train_data_paths',\n",
    "        help = 'GCS or local path to training data',\n",
    "        required = True\n",
    "    )\n",
    "    parser.add_argument(\n",
    "        '--train_batch_size',\n",
    "        help = 'Batch size for training steps',\n",
    "        type = int,\n",
    "        default = 512\n",
    "    )\n",
    "    parser.add_argument(\n",
    "        '--eval_batch_size',\n",
    "        help = 'Batch size for evaluation steps',\n",
    "        type = int,\n",
    "        default = 512\n",
    "    )\n",
    "    parser.add_argument(\n",
    "        '--train_steps',\n",
    "        help = 'Steps to run the training job for',\n",
    "        type = int,\n",
    "        default = 5000\n",
    "    )\n",
    "    parser.add_argument(\n",
    "        '--eval_steps',\n",
    "        help = 'Number of steps to run evalution for at each checkpoint',\n",
    "        default = 10,\n",
    "        type = int\n",
    "    )\n",
    "    parser.add_argument(\n",
    "        '--eval_data_paths',\n",
    "        help = 'GCS or local path to evaluation data',\n",
    "        required = True\n",
    "    )\n",
    "    # TensorFlow Transform args\n",
    "    parser.add_argument(\n",
    "        '--metadata_path',\n",
    "        help = 'GCS or local path to transformed metadata if using TFT',\n",
    "        default = '../../data/tft/metadata'\n",
    "    )\n",
    "    # Training arguments\n",
    "    parser.add_argument(\n",
    "        '--model_dir',\n",
    "        help = 'GCS location to write checkpoints and export models',\n",
    "        required = True\n",
    "    )\n",
    "    parser.add_argument(\n",
    "        '--job-dir',\n",
    "        help = 'this model ignores this field, but it is required by gcloud',\n",
    "        default = 'junk'\n",
    "    )\n",
    "    # Eval arguments\n",
    "    parser.add_argument(\n",
    "        '--eval_delay_secs',\n",
    "        help = 'How long to wait before running first evaluation',\n",
    "        default = 10,\n",
    "        type = int\n",
    "    )\n",
    "    parser.add_argument(\n",
    "        '--min_eval_frequency',\n",
    "        help = 'Minimum number of training steps between evaluations',\n",
    "        default = 1,\n",
    "        type = int\n",
    "    )\n",
    "    # Model Specific arguments\n",
    "    parser.add_argument(\n",
    "        '--model_type',\n",
    "        help='Type of ML model, either \"linear\" or \"dnn\"',\n",
    "        default='linear',\n",
    "        type=str\n",
    "    )\n",
    "    parser.add_argument(\n",
    "        '--embedding_type',\n",
    "        help='Embedding to use, one of \"nnlm\", \"universal-sentence-encoder\", \"elmo\"',\n",
    "        default='universal-sentence-encoder',\n",
    "        type=str\n",
    "    )\n",
    "    parser.add_argument(\n",
    "        '--learning_rate',\n",
    "        help='Learning rate',\n",
    "        default=0.01,\n",
    "        type=float\n",
    "    )\n",
    "    parser.add_argument(\n",
    "        '--hidden_units',\n",
    "        help='Hidden units of the DNN model, separated by space e.g. \"128 64\"',\n",
    "        type=str\n",
    "    )\n",
    "    parser.add_argument(\n",
    "        '--dropout',\n",
    "        help='Dropout rate (between 0 and 1)',\n",
    "        default=0.0,\n",
    "        type=float\n",
    "    )\n",
    "    parser.add_argument(\n",
    "        '--l1_regularization_strength',\n",
    "        help='L1 regularisation strength; controls how sparse the linear model will be',\n",
    "        default=0.01,\n",
    "        type=float\n",
    "    )\n",
    "    parser.add_argument(\n",
    "        '--l2_regularization_strength',\n",
    "        help='L2 regularisation strength; controls the magnitude of the weights in the linear model',\n",
    "        default=0.01,\n",
    "        type=float\n",
    "    )\n",
    "\n",
    "    args = parser.parse_args()\n",
    "    arguments = args.__dict__\n",
    "\n",
    "    # Unused args provided by service\n",
    "    arguments.pop('job_dir', None)\n",
    "    arguments.pop('job-dir', None)\n",
    "\n",
    "    output_dir = arguments['model_dir']\n",
    "\n",
    "    # Append trial_id to path if we are doing hptuning\n",
    "    # This code can be removed if you are not using hyperparameter tuning\n",
    "    output_dir = os.path.join(\n",
    "        output_dir,\n",
    "        json.loads(\n",
    "            os.environ.get('TF_CONFIG', '{}')\n",
    "        ).get('task', {}).get('trial', '')\n",
    "    )\n",
    "\n",
    "    # Run the training job:\n",
    "    try:\n",
    "        model.train_and_evaluate(arguments)\n",
    "    except:\n",
    "        traceback.print_exc()"
   ]
  },
  {
   "cell_type": "code",
   "execution_count": 12,
   "metadata": {},
   "outputs": [
    {
     "name": "stdout",
     "output_type": "stream",
     "text": [
      "Overwriting trainer/__init__.py\n"
     ]
    }
   ],
   "source": [
    "%%writefile trainer/__init__.py\n",
    "#"
   ]
  },
  {
   "cell_type": "markdown",
   "metadata": {},
   "source": [
    "# Train Model"
   ]
  },
  {
   "cell_type": "code",
   "execution_count": 13,
   "metadata": {
    "scrolled": false
   },
   "outputs": [
    {
     "name": "stdout",
     "output_type": "stream",
     "text": [
      "1.10.0\n"
     ]
    },
    {
     "name": "stderr",
     "output_type": "stream",
     "text": [
      "/home/jiewpeng/anaconda2/lib/python2.7/site-packages/h5py/__init__.py:36: FutureWarning: Conversion of the second argument of issubdtype from `float` to `np.floating` is deprecated. In future, it will be treated as `np.float64 == np.dtype(float).type`.\n",
      "  from ._conv import register_converters as _register_converters\n",
      "INFO:tensorflow:Using /tmp/tfhub_modules to cache modules.\n",
      "INFO:tensorflow:Using default config.\n",
      "INFO:tensorflow:Using config: {'_save_checkpoints_secs': 600, '_session_config': None, '_keep_checkpoint_max': 5, '_task_type': 'worker', '_global_id_in_cluster': 0, '_is_chief': True, '_cluster_spec': <tensorflow.python.training.server_lib.ClusterSpec object at 0x7fbe370b6310>, '_evaluation_master': '', '_save_checkpoints_steps': None, '_keep_checkpoint_every_n_hours': 10000, '_service': None, '_num_ps_replicas': 0, '_tf_random_seed': None, '_master': '', '_device_fn': None, '_num_worker_replicas': 1, '_task_id': 0, '_log_step_count_steps': 100, '_model_dir': './model_trained', '_train_distribute': None, '_save_summary_steps': 100}\n",
      "INFO:tensorflow:Using config: {'_save_checkpoints_secs': 600, '_session_config': None, '_keep_checkpoint_max': 5, '_task_type': 'worker', '_train_distribute': None, '_is_chief': True, '_cluster_spec': <tensorflow.python.training.server_lib.ClusterSpec object at 0x7fbe39e08a10>, '_evaluation_master': '', '_save_checkpoints_steps': None, '_keep_checkpoint_every_n_hours': 10000, '_service': None, '_num_ps_replicas': 0, '_tf_random_seed': None, '_master': '', '_device_fn': None, '_num_worker_replicas': 1, '_task_id': 0, '_log_step_count_steps': 100, '_model_dir': './model_trained', '_global_id_in_cluster': 0, '_save_summary_steps': 100}\n",
      "INFO:tensorflow:Running training and evaluation locally (non-distributed).\n",
      "INFO:tensorflow:Start train and evaluate loop. The evaluate will happen after every checkpoint. Checkpoint frequency is determined based on RunConfig arguments: save_checkpoints_steps None or save_checkpoints_secs 600.\n",
      "WARNING:tensorflow:From /home/jiewpeng/anaconda2/lib/python2.7/site-packages/tensorflow_transform/saved/input_fn_maker.py:560: read_batch_features (from tensorflow.contrib.learn.python.learn.learn_io.graph_io) is deprecated and will be removed in a future version.\n",
      "Instructions for updating:\n",
      "Use tf.data.\n",
      "WARNING:tensorflow:From /home/jiewpeng/anaconda2/lib/python2.7/site-packages/tensorflow/contrib/learn/python/learn/learn_io/graph_io.py:833: read_keyed_batch_features (from tensorflow.contrib.learn.python.learn.learn_io.graph_io) is deprecated and will be removed in a future version.\n",
      "Instructions for updating:\n",
      "Use tf.data.\n",
      "WARNING:tensorflow:From /home/jiewpeng/anaconda2/lib/python2.7/site-packages/tensorflow/contrib/learn/python/learn/learn_io/graph_io.py:542: read_keyed_batch_examples (from tensorflow.contrib.learn.python.learn.learn_io.graph_io) is deprecated and will be removed in a future version.\n",
      "Instructions for updating:\n",
      "Use tf.data.\n",
      "WARNING:tensorflow:From /home/jiewpeng/anaconda2/lib/python2.7/site-packages/tensorflow/contrib/learn/python/learn/learn_io/graph_io.py:550: queue_parsed_features (from tensorflow.contrib.learn.python.learn.learn_io.graph_io) is deprecated and will be removed in a future version.\n",
      "Instructions for updating:\n",
      "Use tf.data.\n",
      "INFO:tensorflow:Calling model_fn.\n",
      "INFO:tensorflow:Calling model_fn.\n",
      "INFO:tensorflow:Saver not created because there are no variables in the graph to restore\n",
      "INFO:tensorflow:Saver not created because there are no variables in the graph to restore\n",
      "INFO:tensorflow:Done calling model_fn.\n",
      "INFO:tensorflow:Done calling model_fn.\n",
      "INFO:tensorflow:Create CheckpointSaverHook.\n",
      "INFO:tensorflow:Graph was finalized.\n",
      "2018-08-11 16:55:19.906115: I tensorflow/core/platform/cpu_feature_guard.cc:141] Your CPU supports instructions that this TensorFlow binary was not compiled to use: AVX2 FMA\n",
      "INFO:tensorflow:Running local_init_op.\n",
      "INFO:tensorflow:Done running local_init_op.\n",
      "INFO:tensorflow:Saving checkpoints for 0 into ./model_trained/model.ckpt.\n",
      "INFO:tensorflow:loss = 282.28992, step = 1\n",
      "INFO:tensorflow:Saving checkpoints for 10 into ./model_trained/model.ckpt.\n",
      "INFO:tensorflow:Calling model_fn.\n",
      "INFO:tensorflow:Calling model_fn.\n",
      "INFO:tensorflow:Saver not created because there are no variables in the graph to restore\n",
      "INFO:tensorflow:Saver not created because there are no variables in the graph to restore\n",
      "INFO:tensorflow:Done calling model_fn.\n",
      "INFO:tensorflow:Done calling model_fn.\n",
      "INFO:tensorflow:Starting evaluation at 2018-08-11-08:55:22\n",
      "INFO:tensorflow:Graph was finalized.\n",
      "INFO:tensorflow:Restoring parameters from ./model_trained/model.ckpt-10\n",
      "INFO:tensorflow:Running local_init_op.\n",
      "INFO:tensorflow:Done running local_init_op.\n",
      "INFO:tensorflow:Finished evaluation at 2018-08-11-08:55:24\n",
      "INFO:tensorflow:Saving dict for global step 10: accuracy = 0.3, average_loss = 1.1886399, global_step = 10, loss = 11.886399\n",
      "INFO:tensorflow:Saving 'checkpoint_path' summary for global step 10: ./model_trained/model.ckpt-10\n",
      "WARNING:tensorflow:partially_apply_saved_transform is deprecated.  Use the transform_raw_features method of the TFTrandformOutput class instead.\n",
      "INFO:tensorflow:Saver not created because there are no variables in the graph to restore\n",
      "INFO:tensorflow:Calling model_fn.\n",
      "INFO:tensorflow:Calling model_fn.\n",
      "INFO:tensorflow:Saver not created because there are no variables in the graph to restore\n",
      "INFO:tensorflow:Saver not created because there are no variables in the graph to restore\n",
      "INFO:tensorflow:Done calling model_fn.\n",
      "INFO:tensorflow:Done calling model_fn.\n",
      "INFO:tensorflow:Signatures INCLUDED in export for Eval: None\n",
      "INFO:tensorflow:Signatures INCLUDED in export for Classify: None\n",
      "INFO:tensorflow:Signatures INCLUDED in export for Regress: None\n",
      "INFO:tensorflow:Signatures INCLUDED in export for Predict: ['predict']\n",
      "INFO:tensorflow:Signatures INCLUDED in export for Train: None\n",
      "INFO:tensorflow:Signatures EXCLUDED from export because they cannot be be served via TensorFlow Serving APIs:\n",
      "INFO:tensorflow:'serving_default' : Classification input must be a single string Tensor; got {'voucher_line_descr': <tf.Tensor 'Placeholder_1:0' shape=(?,) dtype=string>, 'voucher_descr': <tf.Tensor 'Placeholder:0' shape=(?,) dtype=string>, 'vendor_id': <tf.Tensor 'Placeholder_4:0' shape=(?,) dtype=string>, 'business_unit': <tf.Tensor 'Placeholder_3:0' shape=(?,) dtype=string>, 'voucher_line': <tf.Tensor 'Placeholder_6:0' shape=(?,) dtype=string>, 'voucher_id': <tf.Tensor 'Placeholder_5:0' shape=(?,) dtype=string>}\n",
      "INFO:tensorflow:'classification' : Classification input must be a single string Tensor; got {'voucher_line_descr': <tf.Tensor 'Placeholder_1:0' shape=(?,) dtype=string>, 'voucher_descr': <tf.Tensor 'Placeholder:0' shape=(?,) dtype=string>, 'vendor_id': <tf.Tensor 'Placeholder_4:0' shape=(?,) dtype=string>, 'business_unit': <tf.Tensor 'Placeholder_3:0' shape=(?,) dtype=string>, 'voucher_line': <tf.Tensor 'Placeholder_6:0' shape=(?,) dtype=string>, 'voucher_id': <tf.Tensor 'Placeholder_5:0' shape=(?,) dtype=string>}\n",
      "WARNING:tensorflow:Export includes no default signature!\n",
      "INFO:tensorflow:Restoring parameters from ./model_trained/model.ckpt-10\n",
      "INFO:tensorflow:Assets added to graph.\n",
      "INFO:tensorflow:Assets written to: ./model_trained/export/exporter/temp-1533977724/assets\n",
      "INFO:tensorflow:SavedModel written to: ./model_trained/export/exporter/temp-1533977724/saved_model.pb\n",
      "INFO:tensorflow:Loss for final step: 244.91632.\n"
     ]
    }
   ],
   "source": [
    "%%bash\n",
    "export PYTHONPATH=${PYTHONPATH}:$PWD\n",
    "rm -rf model_trained\n",
    "python -m trainer.task \\\n",
    "    --train_data_paths='./data/tft/train*' \\\n",
    "    --eval_data_paths='./data/tft/eval*' \\\n",
    "    --model_dir='./model_trained' \\\n",
    "    --train_steps=10 \\\n",
    "    --train_batch_size=256 \\\n",
    "    --eval_batch_size=256 \\\n",
    "    --metadata_path='./data/tft/metadata' \\\n",
    "    \\\n",
    "    --model_type='dnn' \\\n",
    "    --embedding_type='nnlm' \\\n",
    "    --learning_rate=0.01 \\\n",
    "    --hidden_units='128 64 32' \\\n",
    "    --dropout=0.0 \\\n",
    "    --l1_regularization_strength=0.01 \\\n",
    "    --l2_regularization_strength=0.01"
   ]
  },
  {
   "cell_type": "markdown",
   "metadata": {},
   "source": [
    "# Serve Model\n",
    "Better to run this in an actual terminal rather than here, so you can continue running other stuff.\n",
    "\n",
    "1. Replace 'model_trained' with whatever OUTPUT_DIR you have specified\n",
    "1. Replace 'exporter' with whatever you specified in `tf.estimator.LatestExporter`"
   ]
  },
  {
   "cell_type": "code",
   "execution_count": null,
   "metadata": {},
   "outputs": [],
   "source": [
    "%%bash\n",
    "tensorflow_model_server \\\n",
    "    --rest_api_port=9000 \\\n",
    "    --model_base_path=${PWD}/model_trained/export/exporter/"
   ]
  },
  {
   "cell_type": "markdown",
   "metadata": {},
   "source": [
    "# Predictions\n",
    "The REST API can be called using the following signature: `http:{URI}:{PORT}/v1/models/{MODEL_NAME}[/versions/{VERSION}]:{VERB}`\n",
    "\n",
    "where\n",
    "\n",
    "- MODEL_NAME is \"default\" if no model name is specified when exporting the model\n",
    "- Specifying the version is optional\n",
    "- VERB is one of 'classify', 'regress', 'predict'. For serving, you should be using 'predict'\n",
    "- signature_name should be 'predict' when serving"
   ]
  },
  {
   "cell_type": "code",
   "execution_count": 26,
   "metadata": {},
   "outputs": [
    {
     "name": "stdout",
     "output_type": "stream",
     "text": [
      "Overwriting debug.json\n"
     ]
    }
   ],
   "source": [
    "%%writefile debug.json\n",
    "{\n",
    "    \"signature_name\": \"predict\",\n",
    "    \"instances\": [\n",
    "        {\n",
    "            \"voucher_descr\": \"hello hello\", \n",
    "            \"voucher_line_descr\": \"it's a place called vertigo\",\n",
    "            \"business_unit\": \"BU01\", \n",
    "            \"vendor_id\": \"B0123\", \n",
    "            \"voucher_id\": \"V214790\", \n",
    "            \"voucher_line\": \"1\"\n",
    "        },\n",
    "        {\n",
    "            \"voucher_descr\": \"bye\", \n",
    "            \"voucher_line_descr\": \"the quick brown fox jumps over a lazy dog\",\n",
    "            \"business_unit\": \"BU01\", \n",
    "            \"vendor_id\": \"B0123\", \n",
    "            \"voucher_id\": \"V214790\", \n",
    "            \"voucher_line\": \"1\"\n",
    "        }\n",
    "    ]\n",
    "}"
   ]
  },
  {
   "cell_type": "code",
   "execution_count": 16,
   "metadata": {},
   "outputs": [
    {
     "name": "stdout",
     "output_type": "stream",
     "text": [
      "{\n",
      "    \"predictions\": [\n",
      "        {\n",
      "            \"class_ids\": [2],\n",
      "            \"classes\": [\"123458\"],\n",
      "            \"voucher_line\": [\"1\"],\n",
      "            \"voucher_id\": [\"V214790\"],\n",
      "            \"vendor_id\": [\"B0123\"],\n",
      "            \"probabilities\": [0.233552, 0.297726, 0.468722],\n",
      "            \"logits\": [-0.276525, -0.0337567, 0.420079],\n",
      "            \"business_unit\": [\"BU01\"]\n",
      "        },\n",
      "        {\n",
      "            \"class_ids\": [2],\n",
      "            \"classes\": [\"123458\"],\n",
      "            \"voucher_line\": [\"1\"],\n",
      "            \"voucher_id\": [\"V214790\"],\n",
      "            \"vendor_id\": [\"B0123\"],\n",
      "            \"probabilities\": [0.307005, 0.314536, 0.378459],\n",
      "            \"logits\": [-0.067416, -0.0431802, 0.141829],\n",
      "            \"business_unit\": [\"BU01\"]\n",
      "        }\n",
      "    ]\n",
      "}"
     ]
    },
    {
     "name": "stderr",
     "output_type": "stream",
     "text": [
      "  % Total    % Received % Xferd  Average Speed   Time    Time     Time  Current\n",
      "                                 Dload  Upload   Total   Spent    Left  Speed\n",
      "\r",
      "  0     0    0     0    0     0      0      0 --:--:-- --:--:-- --:--:--     0curl: (6) Could not resolve host: v\n",
      "\r",
      "100  1327  100   733  100   594  52357  42428 --:--:-- --:--:-- --:--:-- 94785\n"
     ]
    }
   ],
   "source": [
    "%%bash\n",
    "curl v -H \"Content-Type: application/json\" -X POST \\\n",
    "    http://localhost:9000/v1/models/default:predict \\\n",
    "    -d @debug.json"
   ]
  },
  {
   "cell_type": "code",
   "execution_count": null,
   "metadata": {},
   "outputs": [],
   "source": []
  }
 ],
 "metadata": {
  "accelerator": "GPU",
  "colab": {
   "collapsed_sections": [],
   "name": "03-model.ipynb",
   "private_outputs": true,
   "provenance": [],
   "version": "0.3.2"
  },
  "kernelspec": {
   "display_name": "Python 2",
   "language": "python",
   "name": "python2"
  },
  "language_info": {
   "codemirror_mode": {
    "name": "ipython",
    "version": 2
   },
   "file_extension": ".py",
   "mimetype": "text/x-python",
   "name": "python",
   "nbconvert_exporter": "python",
   "pygments_lexer": "ipython2",
   "version": "2.7.15"
  }
 },
 "nbformat": 4,
 "nbformat_minor": 1
}
