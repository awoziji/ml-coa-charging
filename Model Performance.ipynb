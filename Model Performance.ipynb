{
 "cells": [
  {
   "cell_type": "code",
   "execution_count": null,
   "metadata": {},
   "outputs": [],
   "source": [
    "import pandas as pd\n",
    "import seaborn as sns\n",
    "import matplotlib.pyplot as plt\n",
    "\n",
    "%matplotlib inline\n",
    "sns.set(style = 'darkgrid')\n",
    "pd.options.display.max_rows = 6"
   ]
  },
  {
   "cell_type": "code",
   "execution_count": null,
   "metadata": {},
   "outputs": [],
   "source": [
    "df = pd.read_excel('data/output/validation-2018-02-24 0800 cnn 1-4gram descr and vendor and voucher amt.xlsx')\n",
    "df"
   ]
  },
  {
   "cell_type": "code",
   "execution_count": null,
   "metadata": {},
   "outputs": [],
   "source": [
    "sns.kdeplot(df[df.wrong == False].confidence.values, label='correct predictions', cumulative=True, color='green');\n",
    "sns.kdeplot(df[df.wrong == True].confidence.values, label='wrong predictions', cumulative=True, color='red');\n",
    "plt.title('Distribution of Correct and Wrong Predictions');\n",
    "plt.xlabel('Confidence of Prediction');\n",
    "plt.ylabel('Cumulative % of Correct/Wrong Predictions');"
   ]
  },
  {
   "cell_type": "code",
   "execution_count": null,
   "metadata": {},
   "outputs": [],
   "source": [
    "cutoff_confidence = 0.60\n",
    "wrong_pct_series = df[df.confidence >= cutoff_confidence].groupby('wrong').size() / len(df[df.confidence >= cutoff_confidence])\n",
    "wrong_pct = round(wrong_pct_series[True] * 100, 2)\n",
    "pct_classified = round(len(df[df.confidence >= cutoff_confidence]) / len(df) * 100, 2)\n",
    "overall_acc = df[df.wrong == False].shape[0] / df.shape[0]\n",
    "print(\n",
    "    'Overall accuracy of model: {}%\\n\\n'.format(round(overall_acc * 100, 2))\n",
    "    + 'If confidence threshold is {}%:\\n'.format(round(cutoff_confidence * 100))\n",
    "    + '% of vouchers that will be automatically classified: {}%\\n'.format(pct_classified)\n",
    "    + '% of vouchers automatically classified wrongly: {}%'.format(wrong_pct)\n",
    ")"
   ]
  },
  {
   "cell_type": "code",
   "execution_count": null,
   "metadata": {},
   "outputs": [],
   "source": []
  }
 ],
 "metadata": {
  "kernelspec": {
   "display_name": "Python 3",
   "language": "python",
   "name": "python3"
  },
  "language_info": {
   "codemirror_mode": {
    "name": "ipython",
    "version": 3
   },
   "file_extension": ".py",
   "mimetype": "text/x-python",
   "name": "python",
   "nbconvert_exporter": "python",
   "pygments_lexer": "ipython3",
   "version": "3.6.1"
  },
  "notify_time": "10"
 },
 "nbformat": 4,
 "nbformat_minor": 2
}
